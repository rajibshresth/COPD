{
 "cells": [
  {
   "cell_type": "code",
   "execution_count": 1,
   "metadata": {},
   "outputs": [],
   "source": [
    "# Import Library\n",
    "import pandas as pd"
   ]
  },
  {
   "cell_type": "code",
   "execution_count": 2,
   "metadata": {},
   "outputs": [],
   "source": [
    "# Read all the csv Data\n",
    "data = pd.read_csv('./COPD_Data.csv')"
   ]
  },
  {
   "cell_type": "code",
   "execution_count": 3,
   "metadata": {},
   "outputs": [
    {
     "name": "stdout",
     "output_type": "stream",
     "text": [
      "<class 'pandas.core.frame.DataFrame'>\n",
      "RangeIndex: 1000 entries, 0 to 999\n",
      "Data columns (total 11 columns):\n",
      " #   Column                            Non-Null Count  Dtype  \n",
      "---  ------                            --------------  -----  \n",
      " 0   Age                               1000 non-null   int64  \n",
      " 1   Gender                            1000 non-null   object \n",
      " 2   Smoking_Status                    1000 non-null   object \n",
      " 3   Biomass_Fuel_Exposure             1000 non-null   int64  \n",
      " 4   Occupational_Exposure             1000 non-null   int64  \n",
      " 5   Family_History_COPD               1000 non-null   int64  \n",
      " 6   BMI                               1000 non-null   float64\n",
      " 7   Location                          1000 non-null   object \n",
      " 8   Air_Pollution_Level               1000 non-null   int64  \n",
      " 9   Respiratory_Infections_Childhood  1000 non-null   int64  \n",
      " 10  COPD_Diagnosis                    1000 non-null   int64  \n",
      "dtypes: float64(1), int64(7), object(3)\n",
      "memory usage: 86.1+ KB\n"
     ]
    }
   ],
   "source": [
    "# Show General information of the data\n",
    "data.info()"
   ]
  },
  {
   "cell_type": "code",
   "execution_count": 4,
   "metadata": {},
   "outputs": [
    {
     "data": {
      "text/html": [
       "<div>\n",
       "<style scoped>\n",
       "    .dataframe tbody tr th:only-of-type {\n",
       "        vertical-align: middle;\n",
       "    }\n",
       "\n",
       "    .dataframe tbody tr th {\n",
       "        vertical-align: top;\n",
       "    }\n",
       "\n",
       "    .dataframe thead th {\n",
       "        text-align: right;\n",
       "    }\n",
       "</style>\n",
       "<table border=\"1\" class=\"dataframe\">\n",
       "  <thead>\n",
       "    <tr style=\"text-align: right;\">\n",
       "      <th></th>\n",
       "      <th>Age</th>\n",
       "      <th>Gender</th>\n",
       "      <th>Smoking_Status</th>\n",
       "      <th>Biomass_Fuel_Exposure</th>\n",
       "      <th>Occupational_Exposure</th>\n",
       "      <th>Family_History_COPD</th>\n",
       "      <th>BMI</th>\n",
       "      <th>Location</th>\n",
       "      <th>Air_Pollution_Level</th>\n",
       "      <th>Respiratory_Infections_Childhood</th>\n",
       "      <th>COPD_Diagnosis</th>\n",
       "    </tr>\n",
       "  </thead>\n",
       "  <tbody>\n",
       "    <tr>\n",
       "      <th>0</th>\n",
       "      <td>31</td>\n",
       "      <td>Male</td>\n",
       "      <td>Former</td>\n",
       "      <td>1</td>\n",
       "      <td>1</td>\n",
       "      <td>1</td>\n",
       "      <td>27.56</td>\n",
       "      <td>Lalitpur</td>\n",
       "      <td>84</td>\n",
       "      <td>0</td>\n",
       "      <td>0</td>\n",
       "    </tr>\n",
       "    <tr>\n",
       "      <th>1</th>\n",
       "      <td>60</td>\n",
       "      <td>Male</td>\n",
       "      <td>Never</td>\n",
       "      <td>1</td>\n",
       "      <td>0</td>\n",
       "      <td>0</td>\n",
       "      <td>30.30</td>\n",
       "      <td>Pokhara</td>\n",
       "      <td>131</td>\n",
       "      <td>1</td>\n",
       "      <td>0</td>\n",
       "    </tr>\n",
       "    <tr>\n",
       "      <th>2</th>\n",
       "      <td>33</td>\n",
       "      <td>Male</td>\n",
       "      <td>Former</td>\n",
       "      <td>0</td>\n",
       "      <td>0</td>\n",
       "      <td>1</td>\n",
       "      <td>28.45</td>\n",
       "      <td>Pokhara</td>\n",
       "      <td>123</td>\n",
       "      <td>1</td>\n",
       "      <td>0</td>\n",
       "    </tr>\n",
       "    <tr>\n",
       "      <th>3</th>\n",
       "      <td>36</td>\n",
       "      <td>Female</td>\n",
       "      <td>Current</td>\n",
       "      <td>1</td>\n",
       "      <td>0</td>\n",
       "      <td>0</td>\n",
       "      <td>27.49</td>\n",
       "      <td>Kathmandu</td>\n",
       "      <td>253</td>\n",
       "      <td>0</td>\n",
       "      <td>1</td>\n",
       "    </tr>\n",
       "    <tr>\n",
       "      <th>4</th>\n",
       "      <td>58</td>\n",
       "      <td>Male</td>\n",
       "      <td>Never</td>\n",
       "      <td>0</td>\n",
       "      <td>0</td>\n",
       "      <td>0</td>\n",
       "      <td>25.49</td>\n",
       "      <td>Pokhara</td>\n",
       "      <td>117</td>\n",
       "      <td>1</td>\n",
       "      <td>0</td>\n",
       "    </tr>\n",
       "  </tbody>\n",
       "</table>\n",
       "</div>"
      ],
      "text/plain": [
       "   Age  Gender Smoking_Status  Biomass_Fuel_Exposure  Occupational_Exposure  \\\n",
       "0   31    Male         Former                      1                      1   \n",
       "1   60    Male          Never                      1                      0   \n",
       "2   33    Male         Former                      0                      0   \n",
       "3   36  Female        Current                      1                      0   \n",
       "4   58    Male          Never                      0                      0   \n",
       "\n",
       "   Family_History_COPD    BMI   Location  Air_Pollution_Level  \\\n",
       "0                    1  27.56   Lalitpur                   84   \n",
       "1                    0  30.30    Pokhara                  131   \n",
       "2                    1  28.45    Pokhara                  123   \n",
       "3                    0  27.49  Kathmandu                  253   \n",
       "4                    0  25.49    Pokhara                  117   \n",
       "\n",
       "   Respiratory_Infections_Childhood  COPD_Diagnosis  \n",
       "0                                 0               0  \n",
       "1                                 1               0  \n",
       "2                                 1               0  \n",
       "3                                 0               1  \n",
       "4                                 1               0  "
      ]
     },
     "execution_count": 4,
     "metadata": {},
     "output_type": "execute_result"
    }
   ],
   "source": [
    "# Show the first few rows\n",
    "data.head()"
   ]
  },
  {
   "cell_type": "code",
   "execution_count": 5,
   "metadata": {},
   "outputs": [
    {
     "data": {
      "text/plain": [
       "Age                                 0\n",
       "Gender                              0\n",
       "Smoking_Status                      0\n",
       "Biomass_Fuel_Exposure               0\n",
       "Occupational_Exposure               0\n",
       "Family_History_COPD                 0\n",
       "BMI                                 0\n",
       "Location                            0\n",
       "Air_Pollution_Level                 0\n",
       "Respiratory_Infections_Childhood    0\n",
       "COPD_Diagnosis                      0\n",
       "dtype: int64"
      ]
     },
     "execution_count": 5,
     "metadata": {},
     "output_type": "execute_result"
    }
   ],
   "source": [
    "data.isnull().sum()"
   ]
  },
  {
   "cell_type": "markdown",
   "metadata": {},
   "source": [
    "### Encoding Categorical Variables:\n",
    "#### Gender, Smoking_Status, and Location to numerical values using techniques (One-Hot Encoding or Label Encoding)"
   ]
  },
  {
   "cell_type": "code",
   "execution_count": 6,
   "metadata": {},
   "outputs": [],
   "source": [
    "# One-Hot Encoding for categorical variables: Gender, Smoking_Status, and Location\n",
    "data_encoded = pd.get_dummies(data, columns=['Gender', 'Smoking_Status', 'Location'], drop_first=True)"
   ]
  },
  {
   "cell_type": "code",
   "execution_count": 7,
   "metadata": {},
   "outputs": [],
   "source": [
    "# Scaling numerical features\n",
    "from sklearn.preprocessing import StandardScaler\n",
    "\n",
    "# Defining the numerical columns to scale\n",
    "numerical_columns = ['Age', 'Biomass_Fuel_Exposure', 'Occupational_Exposure', \n",
    "                     'Family_History_COPD', 'BMI', 'Air_Pollution_Level', \n",
    "                     'Respiratory_Infections_Childhood']\n",
    "\n",
    "# Applying StandardScaler to the numerical features\n",
    "scaler = StandardScaler()\n",
    "data_encoded[numerical_columns] = scaler.fit_transform(data_encoded[numerical_columns])"
   ]
  },
  {
   "cell_type": "code",
   "execution_count": 8,
   "metadata": {},
   "outputs": [],
   "source": [
    "# Save the data after Encoding\n",
    "data_encoded.to_csv(\"../EDA/Encoded_data.csv\", index=False, encoding='utf-8')"
   ]
  }
 ],
 "metadata": {
  "kernelspec": {
   "display_name": "base",
   "language": "python",
   "name": "python3"
  },
  "language_info": {
   "codemirror_mode": {
    "name": "ipython",
    "version": 3
   },
   "file_extension": ".py",
   "mimetype": "text/x-python",
   "name": "python",
   "nbconvert_exporter": "python",
   "pygments_lexer": "ipython3",
   "version": "3.11.7"
  }
 },
 "nbformat": 4,
 "nbformat_minor": 2
}
